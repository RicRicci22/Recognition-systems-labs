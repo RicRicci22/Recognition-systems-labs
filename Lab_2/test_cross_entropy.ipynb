{
 "cells": [
  {
   "cell_type": "code",
   "execution_count": 32,
   "metadata": {},
   "outputs": [
    {
     "name": "stdout",
     "output_type": "stream",
     "text": [
      "1.7341673166283502\n",
      "tensor(1.7342)\n"
     ]
    }
   ],
   "source": [
    "# Test cross entropy calculation\n",
    "\n",
    "import numpy as np\n",
    "\n",
    "def cross_entropy(P, Y):\n",
    "    # Calculate the cross entropy between a set of predictions and the true labels\n",
    "    # Y: true labels\n",
    "    # P: predictions\n",
    "    # return: cross entropy\n",
    "    \n",
    "    # Convert to numpy array if not already\n",
    "    P = np.array(P)\n",
    "    Y = np.array(Y)\n",
    "    # Calculate stable cross entropy\n",
    "    cross_entropy = -np.sum(Y * np.log(np.exp(P)/np.sum(np.exp(P)) + 1e-9))\n",
    "    return cross_entropy\n",
    "\n",
    "\n",
    "# Test\n",
    "Y = [1, 0, 0, 0]\n",
    "P = [1,-5,2.4,0.5]\n",
    "print(cross_entropy(P,Y))\n",
    "\n",
    "# Test with pytorch cross entropy\n",
    "import torch\n",
    "Y = torch.tensor(0)\n",
    "P = torch.tensor(P, dtype=torch.float)\n",
    "print(torch.nn.functional.cross_entropy(P.unsqueeze(0), Y.unsqueeze(0)))\n"
   ]
  }
 ],
 "metadata": {
  "kernelspec": {
   "display_name": "testCUDA",
   "language": "python",
   "name": "python3"
  },
  "language_info": {
   "codemirror_mode": {
    "name": "ipython",
    "version": 3
   },
   "file_extension": ".py",
   "mimetype": "text/x-python",
   "name": "python",
   "nbconvert_exporter": "python",
   "pygments_lexer": "ipython3",
   "version": "3.7.13"
  },
  "orig_nbformat": 4
 },
 "nbformat": 4,
 "nbformat_minor": 2
}
